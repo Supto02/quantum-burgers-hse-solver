{
 "cells": [
  {
   "cell_type": "code",
   "execution_count": 5,
   "id": "f6756b1a-23b2-4aaf-a7d6-674329227137",
   "metadata": {},
   "outputs": [],
   "source": [
    "!pip install qiskit>=1.0 qiskit-aer>=0.14"
   ]
  },
  {
   "cell_type": "code",
   "execution_count": 17,
   "id": "287102ec-c8b0-4776-8219-5425e6c19703",
   "metadata": {},
   "outputs": [
    {
     "name": "stdout",
     "output_type": "stream",
     "text": [
      "Requirement already satisfied: qiskit-aer in c:\\users\\suptotthita\\anaconda3\\lib\\site-packages (0.17.1)\n",
      "Requirement already satisfied: qiskit>=1.1.0 in c:\\users\\suptotthita\\anaconda3\\lib\\site-packages (from qiskit-aer) (2.1.1)\n",
      "Requirement already satisfied: numpy>=1.16.3 in c:\\users\\suptotthita\\anaconda3\\lib\\site-packages (from qiskit-aer) (1.23.5)\n",
      "Requirement already satisfied: scipy>=1.0 in c:\\users\\suptotthita\\anaconda3\\lib\\site-packages (from qiskit-aer) (1.11.4)\n",
      "Requirement already satisfied: psutil>=5 in c:\\users\\suptotthita\\anaconda3\\lib\\site-packages (from qiskit-aer) (5.9.0)\n",
      "Requirement already satisfied: python-dateutil>=2.8.0 in c:\\users\\suptotthita\\anaconda3\\lib\\site-packages (from qiskit-aer) (2.8.2)\n",
      "Requirement already satisfied: six>=1.5 in c:\\users\\suptotthita\\anaconda3\\lib\\site-packages (from python-dateutil>=2.8.0->qiskit-aer) (1.16.0)\n",
      "Requirement already satisfied: rustworkx>=0.15.0 in c:\\users\\suptotthita\\anaconda3\\lib\\site-packages (from qiskit>=1.1.0->qiskit-aer) (0.15.1)\n",
      "Requirement already satisfied: dill>=0.3 in c:\\users\\suptotthita\\anaconda3\\lib\\site-packages (from qiskit>=1.1.0->qiskit-aer) (0.3.7)\n",
      "Requirement already satisfied: stevedore>=3.0.0 in c:\\users\\suptotthita\\anaconda3\\lib\\site-packages (from qiskit>=1.1.0->qiskit-aer) (5.4.0)\n",
      "Requirement already satisfied: typing-extensions in c:\\users\\suptotthita\\anaconda3\\lib\\site-packages (from qiskit>=1.1.0->qiskit-aer) (4.9.0)\n",
      "Requirement already satisfied: pbr>=2.0.0 in c:\\users\\suptotthita\\anaconda3\\lib\\site-packages (from stevedore>=3.0.0->qiskit>=1.1.0->qiskit-aer) (6.1.0)\n",
      "Note: you may need to restart the kernel to use updated packages.\n"
     ]
    }
   ],
   "source": [
    "pip install qiskit-aer"
   ]
  },
  {
   "cell_type": "code",
   "execution_count": 7,
   "id": "3080ed5d-5a42-4633-bd5b-29aa4e7f52de",
   "metadata": {},
   "outputs": [
    {
     "name": "stdout",
     "output_type": "stream",
     "text": [
      "Final velocity field u(x,T): [ 0.43483733  0.6348292   0.40213607 -0.03206207 -0.07706119  0.00296724\n",
      "  0.07396298  0.4670324 ]\n"
     ]
    },
    {
     "name": "stderr",
     "output_type": "stream",
     "text": [
      "C:\\Users\\Suptotthita\\AppData\\Local\\Temp\\ipykernel_16156\\2969718529.py:23: DeprecationWarning: The class ``qiskit.circuit.library.basis_change.qft.QFT`` is deprecated as of Qiskit 2.1. It will be removed in Qiskit 3.0. ('Use qiskit.circuit.library.QFTGate or qiskit.synthesis.qft.synth_qft_full instead, for access to all previous arguments.',)\n",
      "  qc.append(QFT(n_qubits), range(n_qubits))\n",
      "C:\\Users\\Suptotthita\\AppData\\Local\\Temp\\ipykernel_16156\\2969718529.py:33: DeprecationWarning: The class ``qiskit.circuit.library.basis_change.qft.QFT`` is deprecated as of Qiskit 2.1. It will be removed in Qiskit 3.0. ('Use qiskit.circuit.library.QFTGate or qiskit.synthesis.qft.synth_qft_full instead, for access to all previous arguments.',)\n",
      "  qc.append(QFT(n_qubits, inverse=True), range(n_qubits))\n"
     ]
    }
   ],
   "source": [
    "import numpy as np\n",
    "from qiskit import QuantumCircuit, transpile\n",
    "from qiskit.circuit.library import QFT\n",
    "from qiskit.quantum_info import Statevector\n",
    "from qiskit.visualization import plot_histogram\n",
    "\n",
    "# Parameters\n",
    "L = 1.0; T = 0.1; nu = 0.05; n_qubits = 3; N = 2**n_qubits\n",
    "\n",
    "# Step 1: Cole-Hopf transform (initial condition)\n",
    "x = np.linspace(0, L, N, endpoint=False)\n",
    "phi0 = np.exp(-np.where(x <= L/2, x/(2*nu), (L-x)/(2*nu)))\n",
    "\n",
    "# Step 2: State preparation with proper normalization\n",
    "norm = np.linalg.norm(phi0)\n",
    "psi0 = phi0 / norm  # Normalize the state vector\n",
    "\n",
    "# Quantum circuit setup\n",
    "qc = QuantumCircuit(n_qubits)\n",
    "qc.initialize(psi0, range(n_qubits))\n",
    "\n",
    "# Step 3: Quantum evolution (QFT + phase gates)\n",
    "qc.append(QFT(n_qubits), range(n_qubits))\n",
    "\n",
    "# Apply exp(-i * ν * t * k^2) for each k\n",
    "for k in range(N):\n",
    "    theta = -nu * T * (k**2)\n",
    "    # Convert k to binary representation and apply phase to corresponding state\n",
    "    for qubit in range(n_qubits):\n",
    "        if (k >> qubit) & 1:\n",
    "            qc.p(theta, qubit)\n",
    "\n",
    "qc.append(QFT(n_qubits, inverse=True), range(n_qubits))\n",
    "\n",
    "# Simulation using Statevector\n",
    "statevector = Statevector.from_instruction(qc)\n",
    "probs = statevector.probabilities()\n",
    "\n",
    "# Step 4: Postprocessing\n",
    "phi_final = np.sqrt(probs) * norm  # Reconstruct ϕ\n",
    "u = -2*nu * np.gradient(phi_final, x) / phi_final  # Compute u(x,T)\n",
    "\n",
    "print(\"Final velocity field u(x,T):\", u)"
   ]
  },
  {
   "cell_type": "code",
   "execution_count": null,
   "id": "2bc52f10-fccd-41d6-9434-f6a6bf40e0d2",
   "metadata": {},
   "outputs": [],
   "source": []
  }
 ],
 "metadata": {
  "kernelspec": {
   "display_name": "Python 3 (ipykernel)",
   "language": "python",
   "name": "python3"
  },
  "language_info": {
   "codemirror_mode": {
    "name": "ipython",
    "version": 3
   },
   "file_extension": ".py",
   "mimetype": "text/x-python",
   "name": "python",
   "nbconvert_exporter": "python",
   "pygments_lexer": "ipython3",
   "version": "3.11.7"
  }
 },
 "nbformat": 4,
 "nbformat_minor": 5
}
